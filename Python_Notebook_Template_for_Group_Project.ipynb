{
 "cells": [
  {
   "cell_type": "markdown",
   "metadata": {
    "id": "K8D2mabhtCeh"
   },
   "source": [
    "# Title of Your Group Project\n",
    "\n",
    "This Python notebook serves as a template for your group project for the course \"Modeling in Cognitive Science\".\n",
    "\n",
    "This is the practical part of the group project where you get to implement the computational modeling workflow. In this part, you are expected to:\n",
    "\n",
    "\n",
    "*   Implement at least two computational models relevant for your hypothesis. *(3 points)*\n",
    "*   Simulate behavior from the two models. *(3 points)*\n",
    "*   Implement a procedure for fitting the models to data. *(4 points)*\n",
    "*   Implement a procedure for parameter recovery. *(5 points)*\n",
    "*   (Implement a procedure for model recovery.) *(optional; 2 bonus points)*\n",
    "*   Implement a model comparison. *(5 points)*.\n",
    "\n",
    "You can gain a total of 20 points for the practical part of the group project.\n",
    "\n",
    "**Note:** *Some of the exercises below (e.g. Model Simulation) rely on code from previous exercises (e.g., Model Implementation). In such cases, you are encouraged to rely on functions implemented for previous exercises. That is, you don't have to produce redundant code.*\n",
    "\n"
   ]
  },
  {
   "cell_type": "markdown",
   "metadata": {
    "id": "HceMyA8DtIZ3"
   },
   "source": [
    "## Model Implementation *(3 points)*\n",
    "\n",
    "For this exercise you should:\n",
    "\n",
    "*   Implement and simulate data from two* models that are suitable to test your hypothesis. *(3 points)*\n",
    "\n",
    "<font size=2>*You may implement more than two models if you wish. However, two models are sufficient for this group project.</font>\n",
    "\n",
    "Make sure to comment your code and provide an explanation for each code block in a preceding text block.\n"
   ]
  },
  {
   "cell_type": "code",
   "execution_count": 8,
   "metadata": {
    "ExecuteTime": {
     "end_time": "2024-02-18T14:11:36.210392Z",
     "start_time": "2024-02-18T14:11:36.145721Z"
    }
   },
   "outputs": [
    {
     "name": "stdout",
     "output_type": "stream",
     "text": [
      "qtable:\n",
      " [[0.42946679 0.32925158]\n",
      " [0.51340353 0.16164472]\n",
      " [0.22395175 0.33645644]]\n",
      "transition model for relevant states-action:\n",
      " [[0.         0.71698113 0.28301887]\n",
      " [0.         0.30851064 0.69148936]]\n",
      "transition model for other states-actions:\n",
      " [[[0. 0. 0.]\n",
      "  [0. 0. 0.]]\n",
      "\n",
      " [[0. 0. 0.]\n",
      "  [0. 0. 0.]]]\n"
     ]
    },
    {
     "data": {
      "text/plain": "     common_transition  state_transition_to  reward_stage_1  action_stage_1  \\\n0                False                    1               0               1   \n1                False                    2               0               0   \n2                False                    1               0               1   \n3                 True                    2               0               1   \n4                 True                    2               0               1   \n..                 ...                  ...             ...             ...   \n195               True                    2               0               1   \n196              False                    1               0               1   \n197               True                    1               0               0   \n198               True                    1               0               0   \n199               True                    1               0               0   \n\n     reward_stage_2  action_stage_2  \\\n0                 1               1   \n1                 1               0   \n2                 1               1   \n3                 1               0   \n4                 1               0   \n..              ...             ...   \n195               0               1   \n196               0               0   \n197               1               0   \n198               1               0   \n199               1               0   \n\n                                  reward_probabilities  trial_index  \n0    [0.0, 0.0, 0.33046909620385206, 0.738363678605...            0  \n1    [0.0, 0.0, 0.32555543097151307, 0.744012723148...            1  \n2    [0.0, 0.0, 0.29590509048928715, 0.730574468994...            2  \n3    [0.0, 0.0, 0.2624516658310027, 0.7139690522468...            3  \n4    [0.0, 0.0, 0.27702484170566366, 0.699147946027...            4  \n..                                                 ...          ...  \n195  [0.0, 0.0, 0.45475382535434977, 0.497073205862...          195  \n196  [0.0, 0.0, 0.4651556773651332, 0.4954945293717...          196  \n197  [0.0, 0.0, 0.47732583780026233, 0.487225764491...          197  \n198  [0.0, 0.0, 0.45889353858713605, 0.510680073443...          198  \n199  [0.0, 0.0, 0.4807424444660112, 0.5283289162642...          199  \n\n[200 rows x 8 columns]",
      "text/html": "<div>\n<style scoped>\n    .dataframe tbody tr th:only-of-type {\n        vertical-align: middle;\n    }\n\n    .dataframe tbody tr th {\n        vertical-align: top;\n    }\n\n    .dataframe thead th {\n        text-align: right;\n    }\n</style>\n<table border=\"1\" class=\"dataframe\">\n  <thead>\n    <tr style=\"text-align: right;\">\n      <th></th>\n      <th>common_transition</th>\n      <th>state_transition_to</th>\n      <th>reward_stage_1</th>\n      <th>action_stage_1</th>\n      <th>reward_stage_2</th>\n      <th>action_stage_2</th>\n      <th>reward_probabilities</th>\n      <th>trial_index</th>\n    </tr>\n  </thead>\n  <tbody>\n    <tr>\n      <th>0</th>\n      <td>False</td>\n      <td>1</td>\n      <td>0</td>\n      <td>1</td>\n      <td>1</td>\n      <td>1</td>\n      <td>[0.0, 0.0, 0.33046909620385206, 0.738363678605...</td>\n      <td>0</td>\n    </tr>\n    <tr>\n      <th>1</th>\n      <td>False</td>\n      <td>2</td>\n      <td>0</td>\n      <td>0</td>\n      <td>1</td>\n      <td>0</td>\n      <td>[0.0, 0.0, 0.32555543097151307, 0.744012723148...</td>\n      <td>1</td>\n    </tr>\n    <tr>\n      <th>2</th>\n      <td>False</td>\n      <td>1</td>\n      <td>0</td>\n      <td>1</td>\n      <td>1</td>\n      <td>1</td>\n      <td>[0.0, 0.0, 0.29590509048928715, 0.730574468994...</td>\n      <td>2</td>\n    </tr>\n    <tr>\n      <th>3</th>\n      <td>True</td>\n      <td>2</td>\n      <td>0</td>\n      <td>1</td>\n      <td>1</td>\n      <td>0</td>\n      <td>[0.0, 0.0, 0.2624516658310027, 0.7139690522468...</td>\n      <td>3</td>\n    </tr>\n    <tr>\n      <th>4</th>\n      <td>True</td>\n      <td>2</td>\n      <td>0</td>\n      <td>1</td>\n      <td>1</td>\n      <td>0</td>\n      <td>[0.0, 0.0, 0.27702484170566366, 0.699147946027...</td>\n      <td>4</td>\n    </tr>\n    <tr>\n      <th>...</th>\n      <td>...</td>\n      <td>...</td>\n      <td>...</td>\n      <td>...</td>\n      <td>...</td>\n      <td>...</td>\n      <td>...</td>\n      <td>...</td>\n    </tr>\n    <tr>\n      <th>195</th>\n      <td>True</td>\n      <td>2</td>\n      <td>0</td>\n      <td>1</td>\n      <td>0</td>\n      <td>1</td>\n      <td>[0.0, 0.0, 0.45475382535434977, 0.497073205862...</td>\n      <td>195</td>\n    </tr>\n    <tr>\n      <th>196</th>\n      <td>False</td>\n      <td>1</td>\n      <td>0</td>\n      <td>1</td>\n      <td>0</td>\n      <td>0</td>\n      <td>[0.0, 0.0, 0.4651556773651332, 0.4954945293717...</td>\n      <td>196</td>\n    </tr>\n    <tr>\n      <th>197</th>\n      <td>True</td>\n      <td>1</td>\n      <td>0</td>\n      <td>0</td>\n      <td>1</td>\n      <td>0</td>\n      <td>[0.0, 0.0, 0.47732583780026233, 0.487225764491...</td>\n      <td>197</td>\n    </tr>\n    <tr>\n      <th>198</th>\n      <td>True</td>\n      <td>1</td>\n      <td>0</td>\n      <td>0</td>\n      <td>1</td>\n      <td>0</td>\n      <td>[0.0, 0.0, 0.45889353858713605, 0.510680073443...</td>\n      <td>198</td>\n    </tr>\n    <tr>\n      <th>199</th>\n      <td>True</td>\n      <td>1</td>\n      <td>0</td>\n      <td>0</td>\n      <td>1</td>\n      <td>0</td>\n      <td>[0.0, 0.0, 0.4807424444660112, 0.5283289162642...</td>\n      <td>199</td>\n    </tr>\n  </tbody>\n</table>\n<p>200 rows × 8 columns</p>\n</div>"
     },
     "execution_count": 8,
     "metadata": {},
     "output_type": "execute_result"
    }
   ],
   "source": [
    "from simulate import simulate\n",
    "# Run simulation and save to csv\n",
    "agent_type = 'model_based'\n",
    "simulate(agent_type=agent_type)"
   ]
  },
  {
   "cell_type": "code",
   "execution_count": 9,
   "metadata": {
    "ExecuteTime": {
     "end_time": "2024-02-18T14:11:37.126011Z",
     "start_time": "2024-02-18T14:11:37.100020Z"
    }
   },
   "outputs": [
    {
     "name": "stdout",
     "output_type": "stream",
     "text": [
      "Loading data from data/simulated/model_based/20240218-151136/simulated_data.csv\n",
      "common transitions percentage: 70.5 %\n",
      "rewarded trails percentage: 42.0 %\n",
      "transition prob. from state 0 action 0 to state 1: 71.69811320754717 %\n",
      "transition prob. from state 0 action 1 to state 2: 69.14893617021278 %\n"
     ]
    },
    {
     "data": {
      "text/plain": "   State  Counts\n0      1     105\n1      2      95",
      "text/html": "<div>\n<style scoped>\n    .dataframe tbody tr th:only-of-type {\n        vertical-align: middle;\n    }\n\n    .dataframe tbody tr th {\n        vertical-align: top;\n    }\n\n    .dataframe thead th {\n        text-align: right;\n    }\n</style>\n<table border=\"1\" class=\"dataframe\">\n  <thead>\n    <tr style=\"text-align: right;\">\n      <th></th>\n      <th>State</th>\n      <th>Counts</th>\n    </tr>\n  </thead>\n  <tbody>\n    <tr>\n      <th>0</th>\n      <td>1</td>\n      <td>105</td>\n    </tr>\n    <tr>\n      <th>1</th>\n      <td>2</td>\n      <td>95</td>\n    </tr>\n  </tbody>\n</table>\n</div>"
     },
     "metadata": {},
     "output_type": "display_data"
    },
    {
     "data": {
      "text/plain": "   Action Stage 1  Counts\n0               0     106\n1               1      94",
      "text/html": "<div>\n<style scoped>\n    .dataframe tbody tr th:only-of-type {\n        vertical-align: middle;\n    }\n\n    .dataframe tbody tr th {\n        vertical-align: top;\n    }\n\n    .dataframe thead th {\n        text-align: right;\n    }\n</style>\n<table border=\"1\" class=\"dataframe\">\n  <thead>\n    <tr style=\"text-align: right;\">\n      <th></th>\n      <th>Action Stage 1</th>\n      <th>Counts</th>\n    </tr>\n  </thead>\n  <tbody>\n    <tr>\n      <th>0</th>\n      <td>0</td>\n      <td>106</td>\n    </tr>\n    <tr>\n      <th>1</th>\n      <td>1</td>\n      <td>94</td>\n    </tr>\n  </tbody>\n</table>\n</div>"
     },
     "metadata": {},
     "output_type": "display_data"
    },
    {
     "data": {
      "text/plain": "     common_transition  state_transition_to  reward_stage_1  action_stage_1  \\\n0                False                    1               0               1   \n1                False                    2               0               0   \n2                False                    1               0               1   \n3                 True                    2               0               1   \n4                 True                    2               0               1   \n..                 ...                  ...             ...             ...   \n195               True                    2               0               1   \n196              False                    1               0               1   \n197               True                    1               0               0   \n198               True                    1               0               0   \n199               True                    1               0               0   \n\n     reward_stage_2  action_stage_2  \\\n0                 1               1   \n1                 1               0   \n2                 1               1   \n3                 1               0   \n4                 1               0   \n..              ...             ...   \n195               0               1   \n196               0               0   \n197               1               0   \n198               1               0   \n199               1               0   \n\n                                  reward_probabilities  trial_index  \n0    [0.         0.         0.3304691  0.73836368 0...            0  \n1    [0.         0.         0.32555543 0.74401272 0...            1  \n2    [0.         0.         0.29590509 0.73057447 0...            2  \n3    [0.         0.         0.26245167 0.71396905 0...            3  \n4    [0.         0.         0.27702484 0.69914795 0...            4  \n..                                                 ...          ...  \n195  [0.         0.         0.45475383 0.49707321 0...          195  \n196  [0.         0.         0.46515568 0.49549453 0...          196  \n197  [0.         0.         0.47732584 0.48722576 0...          197  \n198  [0.         0.         0.45889354 0.51068007 0...          198  \n199  [0.         0.         0.48074244 0.52832892 0...          199  \n\n[200 rows x 8 columns]",
      "text/html": "<div>\n<style scoped>\n    .dataframe tbody tr th:only-of-type {\n        vertical-align: middle;\n    }\n\n    .dataframe tbody tr th {\n        vertical-align: top;\n    }\n\n    .dataframe thead th {\n        text-align: right;\n    }\n</style>\n<table border=\"1\" class=\"dataframe\">\n  <thead>\n    <tr style=\"text-align: right;\">\n      <th></th>\n      <th>common_transition</th>\n      <th>state_transition_to</th>\n      <th>reward_stage_1</th>\n      <th>action_stage_1</th>\n      <th>reward_stage_2</th>\n      <th>action_stage_2</th>\n      <th>reward_probabilities</th>\n      <th>trial_index</th>\n    </tr>\n  </thead>\n  <tbody>\n    <tr>\n      <th>0</th>\n      <td>False</td>\n      <td>1</td>\n      <td>0</td>\n      <td>1</td>\n      <td>1</td>\n      <td>1</td>\n      <td>[0.         0.         0.3304691  0.73836368 0...</td>\n      <td>0</td>\n    </tr>\n    <tr>\n      <th>1</th>\n      <td>False</td>\n      <td>2</td>\n      <td>0</td>\n      <td>0</td>\n      <td>1</td>\n      <td>0</td>\n      <td>[0.         0.         0.32555543 0.74401272 0...</td>\n      <td>1</td>\n    </tr>\n    <tr>\n      <th>2</th>\n      <td>False</td>\n      <td>1</td>\n      <td>0</td>\n      <td>1</td>\n      <td>1</td>\n      <td>1</td>\n      <td>[0.         0.         0.29590509 0.73057447 0...</td>\n      <td>2</td>\n    </tr>\n    <tr>\n      <th>3</th>\n      <td>True</td>\n      <td>2</td>\n      <td>0</td>\n      <td>1</td>\n      <td>1</td>\n      <td>0</td>\n      <td>[0.         0.         0.26245167 0.71396905 0...</td>\n      <td>3</td>\n    </tr>\n    <tr>\n      <th>4</th>\n      <td>True</td>\n      <td>2</td>\n      <td>0</td>\n      <td>1</td>\n      <td>1</td>\n      <td>0</td>\n      <td>[0.         0.         0.27702484 0.69914795 0...</td>\n      <td>4</td>\n    </tr>\n    <tr>\n      <th>...</th>\n      <td>...</td>\n      <td>...</td>\n      <td>...</td>\n      <td>...</td>\n      <td>...</td>\n      <td>...</td>\n      <td>...</td>\n      <td>...</td>\n    </tr>\n    <tr>\n      <th>195</th>\n      <td>True</td>\n      <td>2</td>\n      <td>0</td>\n      <td>1</td>\n      <td>0</td>\n      <td>1</td>\n      <td>[0.         0.         0.45475383 0.49707321 0...</td>\n      <td>195</td>\n    </tr>\n    <tr>\n      <th>196</th>\n      <td>False</td>\n      <td>1</td>\n      <td>0</td>\n      <td>1</td>\n      <td>0</td>\n      <td>0</td>\n      <td>[0.         0.         0.46515568 0.49549453 0...</td>\n      <td>196</td>\n    </tr>\n    <tr>\n      <th>197</th>\n      <td>True</td>\n      <td>1</td>\n      <td>0</td>\n      <td>0</td>\n      <td>1</td>\n      <td>0</td>\n      <td>[0.         0.         0.47732584 0.48722576 0...</td>\n      <td>197</td>\n    </tr>\n    <tr>\n      <th>198</th>\n      <td>True</td>\n      <td>1</td>\n      <td>0</td>\n      <td>0</td>\n      <td>1</td>\n      <td>0</td>\n      <td>[0.         0.         0.45889354 0.51068007 0...</td>\n      <td>198</td>\n    </tr>\n    <tr>\n      <th>199</th>\n      <td>True</td>\n      <td>1</td>\n      <td>0</td>\n      <td>0</td>\n      <td>1</td>\n      <td>0</td>\n      <td>[0.         0.         0.48074244 0.52832892 0...</td>\n      <td>199</td>\n    </tr>\n  </tbody>\n</table>\n<p>200 rows × 8 columns</p>\n</div>"
     },
     "metadata": {},
     "output_type": "display_data"
    }
   ],
   "source": [
    "import pandas as pd\n",
    "import numpy as np\n",
    "import os\n",
    "\n",
    "\n",
    "# Load latest simulated data from csv\n",
    "data_folder = os.path.join(\"data\", \"simulated\", agent_type)\n",
    "timestamped_folders = os.listdir(data_folder)\n",
    "timestamped_folders.sort()\n",
    "latest_folder = timestamped_folders[-1]\n",
    "filename = os.path.join(data_folder, latest_folder, \"simulated_data.csv\")\n",
    "print(\"Loading data from\", filename)\n",
    "task_df = pd.read_csv(filename)\n",
    "\n",
    "# print some statistics \n",
    "# TODO stay probabilities?\n",
    "print(\"common transitions percentage:\", np.mean(task_df[\"common_transition\"])*100, \"%\")\n",
    "print(\"rewarded trails percentage:\", np.mean(task_df[\"reward_stage_2\"] > 0)*100, \"%\")\n",
    "print(\"transition prob. from state 0 action 0 to state 1:\", np.mean(task_df[task_df[\"action_stage_1\"] == 0][\"state_transition_to\"] == 1)*100, \"%\")\n",
    "print(\"transition prob. from state 0 action 1 to state 2:\", np.mean(task_df[task_df[\"action_stage_1\"] == 1][\"state_transition_to\"] == 2)*100, \"%\")\n",
    "\n",
    "visited_states_counts_df = task_df['state_transition_to'].value_counts().reset_index()\n",
    "visited_states_counts_df.columns = ['State', 'Counts']\n",
    "display(visited_states_counts_df)\n",
    "\n",
    "action_first_stage_counts_df = task_df['action_stage_1'].value_counts().reset_index()\n",
    "action_first_stage_counts_df.columns = ['Action Stage 1', 'Counts']\n",
    "display(action_first_stage_counts_df)\n",
    "\n",
    "\n",
    "display(task_df)\n"
   ]
  },
  {
   "cell_type": "code",
   "execution_count": 10,
   "metadata": {
    "ExecuteTime": {
     "end_time": "2024-02-18T14:11:38.046965Z",
     "start_time": "2024-02-18T14:11:38.037576Z"
    }
   },
   "outputs": [
    {
     "data": {
      "text/plain": "    stepOne_Param stepOneTwo_Param stepTwoTwo_Param             rewards_Param  \\\n0           [1,0]            [0,1]            [3,2]    [false,true,true,true]   \n1           [1,0]            [0,1]            [2,3]    [true,true,true,false]   \n2           [1,0]            [1,0]            [2,3]     [true,true,true,true]   \n3           [1,0]            [1,0]            [1,0]  [false,true,false,false]   \n4           [0,1]            [1,0]            [3,2]   [true,false,true,false]   \n..            ...              ...              ...                       ...   \n195         [1,0]            [2,3]            [1,0]    [true,false,true,true]   \n196         [0,1]            [2,3]            [3,2]  [false,false,true,false]   \n197         [1,0]            [1,0]            [1,0]     [true,true,true,true]   \n198         [1,0]            [0,1]            [2,3]  [false,false,true,false]   \n199         [0,1]            [1,0]            [1,0]   [true,true,false,false]   \n\n     stepOneChoice  stepTwoChoice  reward  \\\n0                1              3    True   \n1                1              3   False   \n2                1              2    True   \n3                0              0   False   \n4                1              2    True   \n..             ...            ...     ...   \n195              0              3    True   \n196              0              3   False   \n197              1              1    True   \n198              0              1   False   \n199              1              1    True   \n\n                                   rewardProbabilities  isHighProbOne  \\\n0    [0.6091146172868657,0.4713462443008218,0.61151...           True   \n1    [0.6059896178088179,0.49839269509234124,0.6221...           True   \n2    [0.5656024832486587,0.45986309794430447,0.6272...           True   \n3    [0.5605234469272922,0.4597340637004513,0.63268...           True   \n4    [0.6010152805775881,0.46606593103274335,0.6537...           True   \n..                                                 ...            ...   \n195  [0.611406687652392,0.36566104490101065,0.66043...          False   \n196  [0.6011729983654986,0.33707366326489835,0.7135...          False   \n197  [0.5389335487015099,0.34496395128204227,0.7221...           True   \n198  [0.5570029346925695,0.3068807208779234,0.74131...           True   \n199  [0.5700434336324604,0.2721375472939692,0.71057...           True   \n\n     isHighProbTwo   trial_type  trial_index  time_elapsed internal_node_id  \n0             True  dawsTwoStep            0         11309          0.0-0.0  \n1             True  dawsTwoStep            1         16301          0.0-1.0  \n2             True  dawsTwoStep            2         20980          0.0-2.0  \n3            False  dawsTwoStep            3         25341          0.0-3.0  \n4             True  dawsTwoStep            4         29309          0.0-4.0  \n..             ...          ...          ...           ...              ...  \n195          False  dawsTwoStep          195        719537        0.0-195.0  \n196           True  dawsTwoStep          196        722105        0.0-196.0  \n197          False  dawsTwoStep          197        724543        0.0-197.0  \n198           True  dawsTwoStep          198        726632        0.0-198.0  \n199          False  dawsTwoStep          199        728665        0.0-199.0  \n\n[200 rows x 14 columns]",
      "text/html": "<div>\n<style scoped>\n    .dataframe tbody tr th:only-of-type {\n        vertical-align: middle;\n    }\n\n    .dataframe tbody tr th {\n        vertical-align: top;\n    }\n\n    .dataframe thead th {\n        text-align: right;\n    }\n</style>\n<table border=\"1\" class=\"dataframe\">\n  <thead>\n    <tr style=\"text-align: right;\">\n      <th></th>\n      <th>stepOne_Param</th>\n      <th>stepOneTwo_Param</th>\n      <th>stepTwoTwo_Param</th>\n      <th>rewards_Param</th>\n      <th>stepOneChoice</th>\n      <th>stepTwoChoice</th>\n      <th>reward</th>\n      <th>rewardProbabilities</th>\n      <th>isHighProbOne</th>\n      <th>isHighProbTwo</th>\n      <th>trial_type</th>\n      <th>trial_index</th>\n      <th>time_elapsed</th>\n      <th>internal_node_id</th>\n    </tr>\n  </thead>\n  <tbody>\n    <tr>\n      <th>0</th>\n      <td>[1,0]</td>\n      <td>[0,1]</td>\n      <td>[3,2]</td>\n      <td>[false,true,true,true]</td>\n      <td>1</td>\n      <td>3</td>\n      <td>True</td>\n      <td>[0.6091146172868657,0.4713462443008218,0.61151...</td>\n      <td>True</td>\n      <td>True</td>\n      <td>dawsTwoStep</td>\n      <td>0</td>\n      <td>11309</td>\n      <td>0.0-0.0</td>\n    </tr>\n    <tr>\n      <th>1</th>\n      <td>[1,0]</td>\n      <td>[0,1]</td>\n      <td>[2,3]</td>\n      <td>[true,true,true,false]</td>\n      <td>1</td>\n      <td>3</td>\n      <td>False</td>\n      <td>[0.6059896178088179,0.49839269509234124,0.6221...</td>\n      <td>True</td>\n      <td>True</td>\n      <td>dawsTwoStep</td>\n      <td>1</td>\n      <td>16301</td>\n      <td>0.0-1.0</td>\n    </tr>\n    <tr>\n      <th>2</th>\n      <td>[1,0]</td>\n      <td>[1,0]</td>\n      <td>[2,3]</td>\n      <td>[true,true,true,true]</td>\n      <td>1</td>\n      <td>2</td>\n      <td>True</td>\n      <td>[0.5656024832486587,0.45986309794430447,0.6272...</td>\n      <td>True</td>\n      <td>True</td>\n      <td>dawsTwoStep</td>\n      <td>2</td>\n      <td>20980</td>\n      <td>0.0-2.0</td>\n    </tr>\n    <tr>\n      <th>3</th>\n      <td>[1,0]</td>\n      <td>[1,0]</td>\n      <td>[1,0]</td>\n      <td>[false,true,false,false]</td>\n      <td>0</td>\n      <td>0</td>\n      <td>False</td>\n      <td>[0.5605234469272922,0.4597340637004513,0.63268...</td>\n      <td>True</td>\n      <td>False</td>\n      <td>dawsTwoStep</td>\n      <td>3</td>\n      <td>25341</td>\n      <td>0.0-3.0</td>\n    </tr>\n    <tr>\n      <th>4</th>\n      <td>[0,1]</td>\n      <td>[1,0]</td>\n      <td>[3,2]</td>\n      <td>[true,false,true,false]</td>\n      <td>1</td>\n      <td>2</td>\n      <td>True</td>\n      <td>[0.6010152805775881,0.46606593103274335,0.6537...</td>\n      <td>True</td>\n      <td>True</td>\n      <td>dawsTwoStep</td>\n      <td>4</td>\n      <td>29309</td>\n      <td>0.0-4.0</td>\n    </tr>\n    <tr>\n      <th>...</th>\n      <td>...</td>\n      <td>...</td>\n      <td>...</td>\n      <td>...</td>\n      <td>...</td>\n      <td>...</td>\n      <td>...</td>\n      <td>...</td>\n      <td>...</td>\n      <td>...</td>\n      <td>...</td>\n      <td>...</td>\n      <td>...</td>\n      <td>...</td>\n    </tr>\n    <tr>\n      <th>195</th>\n      <td>[1,0]</td>\n      <td>[2,3]</td>\n      <td>[1,0]</td>\n      <td>[true,false,true,true]</td>\n      <td>0</td>\n      <td>3</td>\n      <td>True</td>\n      <td>[0.611406687652392,0.36566104490101065,0.66043...</td>\n      <td>False</td>\n      <td>False</td>\n      <td>dawsTwoStep</td>\n      <td>195</td>\n      <td>719537</td>\n      <td>0.0-195.0</td>\n    </tr>\n    <tr>\n      <th>196</th>\n      <td>[0,1]</td>\n      <td>[2,3]</td>\n      <td>[3,2]</td>\n      <td>[false,false,true,false]</td>\n      <td>0</td>\n      <td>3</td>\n      <td>False</td>\n      <td>[0.6011729983654986,0.33707366326489835,0.7135...</td>\n      <td>False</td>\n      <td>True</td>\n      <td>dawsTwoStep</td>\n      <td>196</td>\n      <td>722105</td>\n      <td>0.0-196.0</td>\n    </tr>\n    <tr>\n      <th>197</th>\n      <td>[1,0]</td>\n      <td>[1,0]</td>\n      <td>[1,0]</td>\n      <td>[true,true,true,true]</td>\n      <td>1</td>\n      <td>1</td>\n      <td>True</td>\n      <td>[0.5389335487015099,0.34496395128204227,0.7221...</td>\n      <td>True</td>\n      <td>False</td>\n      <td>dawsTwoStep</td>\n      <td>197</td>\n      <td>724543</td>\n      <td>0.0-197.0</td>\n    </tr>\n    <tr>\n      <th>198</th>\n      <td>[1,0]</td>\n      <td>[0,1]</td>\n      <td>[2,3]</td>\n      <td>[false,false,true,false]</td>\n      <td>0</td>\n      <td>1</td>\n      <td>False</td>\n      <td>[0.5570029346925695,0.3068807208779234,0.74131...</td>\n      <td>True</td>\n      <td>True</td>\n      <td>dawsTwoStep</td>\n      <td>198</td>\n      <td>726632</td>\n      <td>0.0-198.0</td>\n    </tr>\n    <tr>\n      <th>199</th>\n      <td>[0,1]</td>\n      <td>[1,0]</td>\n      <td>[1,0]</td>\n      <td>[true,true,false,false]</td>\n      <td>1</td>\n      <td>1</td>\n      <td>True</td>\n      <td>[0.5700434336324604,0.2721375472939692,0.71057...</td>\n      <td>True</td>\n      <td>False</td>\n      <td>dawsTwoStep</td>\n      <td>199</td>\n      <td>728665</td>\n      <td>0.0-199.0</td>\n    </tr>\n  </tbody>\n</table>\n<p>200 rows × 14 columns</p>\n</div>"
     },
     "metadata": {},
     "output_type": "display_data"
    },
    {
     "name": "stdout",
     "output_type": "stream",
     "text": [
      "common transitions percentage: 67.0 %\n",
      "rewarded trails percentage: 59.5 %\n"
     ]
    }
   ],
   "source": [
    "# load and inspect human data\n",
    "human_data = pd.read_csv(\"data/two_steps_experiment_data_muhip.csv\")\n",
    "display(human_data)\n",
    "\n",
    "# print some statistics\n",
    "common_transitions_percentage = np.mean(\n",
    "    np.where(human_data[\"stepOneChoice\"] == 0, human_data[\"isHighProbOne\"], human_data[\"isHighProbTwo\"])\n",
    ") * 100\n",
    "print(\"common transitions percentage:\", common_transitions_percentage, \"%\")\n",
    "print(\"rewarded trails percentage:\", np.mean(human_data[\"reward\"] > 0)*100, \"%\")"
   ]
  },
  {
   "cell_type": "code",
   "execution_count": 11,
   "metadata": {
    "ExecuteTime": {
     "end_time": "2024-02-18T14:11:43.428022Z",
     "start_time": "2024-02-18T14:11:43.423738Z"
    }
   },
   "outputs": [
    {
     "name": "stdout",
     "output_type": "stream",
     "text": [
      "{'common_transition': True, 'state_transition_to': 1, 'reward_stage_1': 0, 'action_stage_1': 0, 'reward_stage_2': 0, 'action_stage_2': 1, 'reward_probabilities': array([0.        , 0.        , 0.36185563, 0.34923468, 0.31881933,\n",
      "       0.40339384])}\n"
     ]
    }
   ],
   "source": [
    "from environment import TwoStepEnv\n",
    "# simple one run test\n",
    "# np.random.seed(0)\n",
    "env = TwoStepEnv()\n",
    "\n",
    "terminal = False\n",
    "while not terminal:\n",
    "    action = np.random.choice([0,1])\n",
    "    s, r, terminal, info = env.step(action)\n",
    "\n",
    "print(env.info)"
   ]
  },
  {
   "cell_type": "markdown",
   "metadata": {
    "id": "twTHrAfL2PC_"
   },
   "source": [
    "## Model Simulation *(3 points)*\n",
    "\n",
    "For this exercise you should:\n",
    "\n",
    "*   Simulate data from both models for a single set of parameters. The simulation should mimic the experiment you are trying to model. *(2 points)*\n",
    "\n",
    "*   Plot the simulated behavior of both models. *(1 point)*\n",
    "\n",
    "Make sure to comment your code and provide an explanation for each code block in a preceding text block.\n"
   ]
  },
  {
   "cell_type": "code",
   "execution_count": null,
   "metadata": {
    "id": "XIk8efpKv-m-"
   },
   "outputs": [],
   "source": [
    "# YOUR MODEL SIMULATION CODE GOES HERE"
   ]
  },
  {
   "cell_type": "markdown",
   "metadata": {
    "id": "2VxwTW9LwnvJ"
   },
   "source": [
    "## Parameter Fitting *(4 points)*\n",
    "\n",
    "For this exercise you should:\n",
    "\n",
    "*   Set up a suitable parameter search space *(1 point)*\n",
    "\n",
    "*   Implement a procedure to evaluate the fit of a model based on data *(2 points)*\n",
    "\n",
    "*   Implement a procedure for searching the parameter space. *(1 point)*\n",
    "\n",
    "Make sure to comment your code and provide an explanation for each code block in a preceding text block.\n",
    "\n"
   ]
  },
  {
   "cell_type": "code",
   "execution_count": null,
   "metadata": {
    "id": "K5OKVYszx7tQ"
   },
   "outputs": [],
   "source": [
    "# YOUR PARAMETER FITTING CODE GOES HERE"
   ]
  },
  {
   "cell_type": "markdown",
   "metadata": {
    "id": "ueZgrw_ByFsF"
   },
   "source": [
    "## Parameter Recovery *(5 points)*\n",
    "\n",
    "For this exercise you should:\n",
    "\n",
    "*   Set up a suitable space of parameters relevant for parameter recovery *(1 point)*\n",
    "\n",
    "*   Use the functions above to generate behavior from a models, for a given set of (randomly sampled) parameters, and then fit the model to its generated data. Make sure to evaluate the parameter fit in a quantiative manner. *(3 points)*\n",
    "\n",
    "*   Plot the parameter recovery results for both models. *(1 point)*\n",
    "\n",
    "Make sure to comment your code and provide an explanation for each code block in a preceding text block.\n",
    "\n",
    "\n",
    "\n"
   ]
  },
  {
   "cell_type": "code",
   "execution_count": null,
   "metadata": {
    "id": "bLdarAD8yXwN"
   },
   "outputs": [],
   "source": [
    "# YOUR PARAMETER RECOVERY CODE GOES HERE"
   ]
  },
  {
   "cell_type": "markdown",
   "metadata": {
    "id": "naQNlDBfzjnG"
   },
   "source": [
    "## *Optional*: Model Recovery *(2 bonus points)*\n",
    "\n",
    "In this bonus exercise, you may examine model reovery. The bonus points count towards your total group project points. That is, you may accumlate up to 22 points in the practical part of the group project.\n",
    "\n",
    "Make sure to comment your code and provide an explanation for each code block in a preceding text block.\n",
    "\n",
    "\n",
    "\n"
   ]
  },
  {
   "cell_type": "code",
   "execution_count": null,
   "metadata": {
    "id": "tIR51ujwziTM"
   },
   "outputs": [],
   "source": [
    "# YOUR MODEL RECOVERY CODE GOES HERE"
   ]
  },
  {
   "cell_type": "markdown",
   "metadata": {
    "id": "-q4dfJ7O0BpW"
   },
   "source": [
    "## Model Comparison *(5 points)*\n",
    "\n",
    "For this exercise you should:\n",
    "\n",
    "*   Load and (potentially) preprocess the experimental data. (1 point)\n",
    "\n",
    "*   Fit the two models to the data.  *(1 point)*\n",
    "\n",
    "*   Evaluate which model performs better, taking into account fit and model complexity. *(2 points)*\n",
    "\n",
    "*   Plot the behavior of the winning model against the data. *(1 point)**\n",
    "\n",
    "Make sure to comment your code and provide an explanation for each code block in a preceding text block.\n",
    "\n",
    "\n",
    "\n"
   ]
  },
  {
   "cell_type": "code",
   "execution_count": null,
   "metadata": {
    "id": "8wAGI-kd1yRb"
   },
   "outputs": [],
   "source": [
    "# YOUR MODEL COMPARISON CODE GOES HERE"
   ]
  }
 ],
 "metadata": {
  "colab": {
   "provenance": []
  },
  "kernelspec": {
   "name": "python3",
   "language": "python",
   "display_name": "Python 3 (ipykernel)"
  },
  "language_info": {
   "codemirror_mode": {
    "name": "ipython",
    "version": 3
   },
   "file_extension": ".py",
   "mimetype": "text/x-python",
   "name": "python",
   "nbconvert_exporter": "python",
   "pygments_lexer": "ipython3",
   "version": "3.9.15"
  }
 },
 "nbformat": 4,
 "nbformat_minor": 0
}
